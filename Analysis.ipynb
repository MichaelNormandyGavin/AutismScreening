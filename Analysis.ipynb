{
 "cells": [
  {
   "cell_type": "markdown",
   "metadata": {},
   "source": [
    "# Autism Disorder Screening - Children #\n",
    "\n",
    "## Found on the [UCI Machine Learning Repository](https://archive.ics.uci.edu/ml/datasets/Autistic+Spectrum+Disorder+Screening+Data+for+Children++)\n",
    "\n",
    "- **Source**: *Fadi Fayez Thabtah*\n",
    "<br>\n",
    "    Department of Digital Technology\n",
    "<br>\n",
    "    Manukau Institute of Technology\n",
    "<br>\n",
    "    Auckland, New Zealand"
   ]
  },
  {
   "cell_type": "code",
   "execution_count": 1,
   "metadata": {},
   "outputs": [
    {
     "name": "stderr",
     "output_type": "stream",
     "text": [
      "Using TensorFlow backend.\n"
     ]
    }
   ],
   "source": [
    "import io\n",
    "import os\n",
    "\n",
    "from autism_data.arff_read import arff_to_df\n",
    "from autism_data.arff_read import df_get_uniform_dummies\n",
    "from ml_tools.scoring import log_loss\n",
    "\n",
    "import matplotlib.pyplot as plt\n",
    "import seaborn as sb\n",
    "import pandas as pd\n",
    "import numpy as np\n",
    "import os\n",
    "plt.style.use('seaborn-notebook')\n",
    "\n",
    "from sklearn.decomposition import PCA\n",
    "from sklearn.model_selection import train_test_split, cross_val_score\n",
    "from sklearn.naive_bayes import BernoulliNB\n",
    "from sklearn.linear_model import LogisticRegression\n",
    "\n",
    "from sklearn.metrics import roc_auc_score, roc_curve, accuracy_score, precision_score, confusion_matrix\n",
    "\n",
    "import keras\n",
    "from keras.models import Sequential\n",
    "from keras.layers import Dense\n",
    "from keras.utils import to_categorical\n",
    "\n",
    "np.set_printoptions(suppress=True)"
   ]
  },
  {
   "cell_type": "markdown",
   "metadata": {},
   "source": [
    "### Read in the data from UCI website and extract .arff file from zip folder"
   ]
  },
  {
   "cell_type": "code",
   "execution_count": 2,
   "metadata": {},
   "outputs": [],
   "source": [
    "df = arff_to_df()\n",
    "df2 = arff_to_df(\"https://archive.ics.uci.edu/ml/machine-learning-databases/00426/Autism-Adult-Data%20Plus%20Description%20File.zip\",'Autism-Adult-Data.arff')\n",
    "df3 = arff_to_df('https://archive.ics.uci.edu/ml/machine-learning-databases/00420/Autism-Adolescent-Data%20Plus%20Description.zip','Autism-Adolescent-Data.arff')"
   ]
  },
  {
   "cell_type": "code",
   "execution_count": 3,
   "metadata": {
    "collapsed": true
   },
   "outputs": [],
   "source": [
    "df = df.append([df2,df3])"
   ]
  },
  {
   "cell_type": "code",
   "execution_count": 4,
   "metadata": {},
   "outputs": [
    {
     "name": "stdout",
     "output_type": "stream",
     "text": [
      "<class 'pandas.core.frame.DataFrame'>\n",
      "Int64Index: 1100 entries, 0 to 103\n",
      "Data columns (total 20 columns):\n",
      "A1_Score           1100 non-null category\n",
      "A2_Score           1100 non-null category\n",
      "A3_Score           1100 non-null category\n",
      "A4_Score           1100 non-null category\n",
      "A5_Score           1100 non-null category\n",
      "A6_Score           1100 non-null category\n",
      "A7_Score           1100 non-null category\n",
      "A8_Score           1100 non-null category\n",
      "A9_Score           1100 non-null category\n",
      "A10_Score          1100 non-null category\n",
      "age                1100 non-null float64\n",
      "gender             1100 non-null category\n",
      "ethnicity          1100 non-null object\n",
      "jaundice           1100 non-null int64\n",
      "autism             1100 non-null int64\n",
      "used_app_before    1100 non-null int64\n",
      "result             1100 non-null float64\n",
      "age_range          1100 non-null object\n",
      "relation           1100 non-null category\n",
      "Class/ASD          1100 non-null int64\n",
      "dtypes: category(12), float64(2), int64(4), object(2)\n",
      "memory usage: 91.5+ KB\n"
     ]
    }
   ],
   "source": [
    "df.info()"
   ]
  },
  {
   "cell_type": "markdown",
   "metadata": {},
   "source": [
    "### Exploring the Data\n"
   ]
  },
  {
   "cell_type": "code",
   "execution_count": 5,
   "metadata": {},
   "outputs": [
    {
     "data": {
      "text/plain": [
       "White-European    381\n",
       "Asian             185\n",
       "Unknown           144\n",
       "Middle_Eastern    128\n",
       "Black              65\n",
       "South_Asian        60\n",
       "Others             57\n",
       "Latino             33\n",
       "Hispanic           25\n",
       "Pasifika           14\n",
       "Turkish             8\n",
       "Name: ethnicity, dtype: int64"
      ]
     },
     "execution_count": 5,
     "metadata": {},
     "output_type": "execute_result"
    }
   ],
   "source": [
    "df.ethnicity.value_counts()"
   ]
  },
  {
   "cell_type": "code",
   "execution_count": 6,
   "metadata": {},
   "outputs": [
    {
     "data": {
      "text/html": [
       "<div>\n",
       "<style>\n",
       "    .dataframe thead tr:only-child th {\n",
       "        text-align: right;\n",
       "    }\n",
       "\n",
       "    .dataframe thead th {\n",
       "        text-align: left;\n",
       "    }\n",
       "\n",
       "    .dataframe tbody tr th {\n",
       "        vertical-align: top;\n",
       "    }\n",
       "</style>\n",
       "<table border=\"1\" class=\"dataframe\">\n",
       "  <thead>\n",
       "    <tr style=\"text-align: right;\">\n",
       "      <th></th>\n",
       "      <th>A1_Score</th>\n",
       "      <th>A2_Score</th>\n",
       "      <th>A3_Score</th>\n",
       "      <th>A4_Score</th>\n",
       "      <th>A5_Score</th>\n",
       "      <th>A6_Score</th>\n",
       "      <th>A7_Score</th>\n",
       "      <th>A8_Score</th>\n",
       "      <th>A9_Score</th>\n",
       "      <th>A10_Score</th>\n",
       "      <th>age</th>\n",
       "      <th>gender</th>\n",
       "      <th>ethnicity</th>\n",
       "      <th>jaundice</th>\n",
       "      <th>autism</th>\n",
       "      <th>used_app_before</th>\n",
       "      <th>result</th>\n",
       "      <th>age_range</th>\n",
       "      <th>relation</th>\n",
       "      <th>Class/ASD</th>\n",
       "    </tr>\n",
       "  </thead>\n",
       "  <tbody>\n",
       "    <tr>\n",
       "      <th>0</th>\n",
       "      <td>1</td>\n",
       "      <td>1</td>\n",
       "      <td>0</td>\n",
       "      <td>0</td>\n",
       "      <td>1</td>\n",
       "      <td>1</td>\n",
       "      <td>0</td>\n",
       "      <td>1</td>\n",
       "      <td>0</td>\n",
       "      <td>0</td>\n",
       "      <td>6.0</td>\n",
       "      <td>m</td>\n",
       "      <td>Others</td>\n",
       "      <td>0</td>\n",
       "      <td>0</td>\n",
       "      <td>0</td>\n",
       "      <td>5.0</td>\n",
       "      <td>'4-11 years'</td>\n",
       "      <td>Family Member</td>\n",
       "      <td>0</td>\n",
       "    </tr>\n",
       "    <tr>\n",
       "      <th>1</th>\n",
       "      <td>1</td>\n",
       "      <td>1</td>\n",
       "      <td>0</td>\n",
       "      <td>0</td>\n",
       "      <td>1</td>\n",
       "      <td>1</td>\n",
       "      <td>0</td>\n",
       "      <td>1</td>\n",
       "      <td>0</td>\n",
       "      <td>0</td>\n",
       "      <td>6.0</td>\n",
       "      <td>m</td>\n",
       "      <td>Middle_Eastern</td>\n",
       "      <td>0</td>\n",
       "      <td>0</td>\n",
       "      <td>0</td>\n",
       "      <td>5.0</td>\n",
       "      <td>'4-11 years'</td>\n",
       "      <td>Family Member</td>\n",
       "      <td>0</td>\n",
       "    </tr>\n",
       "    <tr>\n",
       "      <th>2</th>\n",
       "      <td>1</td>\n",
       "      <td>1</td>\n",
       "      <td>0</td>\n",
       "      <td>0</td>\n",
       "      <td>0</td>\n",
       "      <td>1</td>\n",
       "      <td>1</td>\n",
       "      <td>1</td>\n",
       "      <td>0</td>\n",
       "      <td>0</td>\n",
       "      <td>6.0</td>\n",
       "      <td>m</td>\n",
       "      <td>Unknown</td>\n",
       "      <td>0</td>\n",
       "      <td>0</td>\n",
       "      <td>1</td>\n",
       "      <td>5.0</td>\n",
       "      <td>'4-11 years'</td>\n",
       "      <td>Unknown</td>\n",
       "      <td>0</td>\n",
       "    </tr>\n",
       "    <tr>\n",
       "      <th>3</th>\n",
       "      <td>0</td>\n",
       "      <td>1</td>\n",
       "      <td>0</td>\n",
       "      <td>0</td>\n",
       "      <td>1</td>\n",
       "      <td>1</td>\n",
       "      <td>0</td>\n",
       "      <td>0</td>\n",
       "      <td>0</td>\n",
       "      <td>1</td>\n",
       "      <td>5.0</td>\n",
       "      <td>f</td>\n",
       "      <td>Unknown</td>\n",
       "      <td>1</td>\n",
       "      <td>0</td>\n",
       "      <td>0</td>\n",
       "      <td>4.0</td>\n",
       "      <td>'4-11 years'</td>\n",
       "      <td>Unknown</td>\n",
       "      <td>0</td>\n",
       "    </tr>\n",
       "    <tr>\n",
       "      <th>4</th>\n",
       "      <td>1</td>\n",
       "      <td>1</td>\n",
       "      <td>1</td>\n",
       "      <td>1</td>\n",
       "      <td>1</td>\n",
       "      <td>1</td>\n",
       "      <td>1</td>\n",
       "      <td>1</td>\n",
       "      <td>1</td>\n",
       "      <td>1</td>\n",
       "      <td>5.0</td>\n",
       "      <td>m</td>\n",
       "      <td>Others</td>\n",
       "      <td>1</td>\n",
       "      <td>0</td>\n",
       "      <td>0</td>\n",
       "      <td>10.0</td>\n",
       "      <td>'4-11 years'</td>\n",
       "      <td>Family Member</td>\n",
       "      <td>1</td>\n",
       "    </tr>\n",
       "  </tbody>\n",
       "</table>\n",
       "</div>"
      ],
      "text/plain": [
       "  A1_Score A2_Score A3_Score A4_Score A5_Score A6_Score A7_Score A8_Score  \\\n",
       "0        1        1        0        0        1        1        0        1   \n",
       "1        1        1        0        0        1        1        0        1   \n",
       "2        1        1        0        0        0        1        1        1   \n",
       "3        0        1        0        0        1        1        0        0   \n",
       "4        1        1        1        1        1        1        1        1   \n",
       "\n",
       "  A9_Score A10_Score  age gender       ethnicity  jaundice  autism  \\\n",
       "0        0         0  6.0      m          Others         0       0   \n",
       "1        0         0  6.0      m  Middle_Eastern         0       0   \n",
       "2        0         0  6.0      m         Unknown         0       0   \n",
       "3        0         1  5.0      f         Unknown         1       0   \n",
       "4        1         1  5.0      m          Others         1       0   \n",
       "\n",
       "   used_app_before  result     age_range       relation  Class/ASD  \n",
       "0                0     5.0  '4-11 years'  Family Member          0  \n",
       "1                0     5.0  '4-11 years'  Family Member          0  \n",
       "2                1     5.0  '4-11 years'        Unknown          0  \n",
       "3                0     4.0  '4-11 years'        Unknown          0  \n",
       "4                0    10.0  '4-11 years'  Family Member          1  "
      ]
     },
     "execution_count": 6,
     "metadata": {},
     "output_type": "execute_result"
    }
   ],
   "source": [
    "df.head()"
   ]
  },
  {
   "cell_type": "code",
   "execution_count": 7,
   "metadata": {},
   "outputs": [
    {
     "name": "stdout",
     "output_type": "stream",
     "text": [
      "A1_Score :  2\n",
      "A2_Score :  2\n",
      "A3_Score :  2\n",
      "A4_Score :  2\n",
      "A5_Score :  2\n",
      "A6_Score :  2\n",
      "A7_Score :  2\n",
      "A8_Score :  2\n",
      "A9_Score :  2\n",
      "A10_Score :  2\n",
      "age :  59\n",
      "gender :  2\n",
      "ethnicity :  11\n",
      "jaundice :  2\n",
      "autism :  2\n",
      "used_app_before :  2\n",
      "result :  11\n",
      "age_range :  4\n",
      "relation :  4\n",
      "Class/ASD :  2\n"
     ]
    }
   ],
   "source": [
    "for column in list(df.columns):\n",
    "    print(column,\": \",df[column].nunique())"
   ]
  },
  {
   "cell_type": "code",
   "execution_count": 8,
   "metadata": {},
   "outputs": [
    {
     "data": {
      "text/plain": [
       "Index(['A1_Score', 'A2_Score', 'A3_Score', 'A4_Score', 'A5_Score', 'A6_Score',\n",
       "       'A7_Score', 'A8_Score', 'A9_Score', 'A10_Score', 'age', 'gender',\n",
       "       'ethnicity', 'jaundice', 'autism', 'used_app_before', 'result',\n",
       "       'age_range', 'relation', 'Class/ASD'],\n",
       "      dtype='object')"
      ]
     },
     "execution_count": 8,
     "metadata": {},
     "output_type": "execute_result"
    }
   ],
   "source": [
    "df.columns"
   ]
  },
  {
   "cell_type": "code",
   "execution_count": 9,
   "metadata": {},
   "outputs": [
    {
     "data": {
      "image/png": "[encoded data removed]",
      "text/plain": [
       "<matplotlib.figure.Figure at 0xf950694828>"
      ]
     },
     "metadata": {},
     "output_type": "display_data"
    }
   ],
   "source": [
    "df.ethnicity.value_counts().plot(kind='bar')\n",
    "plt.show()"
   ]
  },
  {
   "cell_type": "code",
   "execution_count": 10,
   "metadata": {},
   "outputs": [
    {
     "data": {
      "image/png": "[encoded data removed]",
      "text/plain": [
       "<matplotlib.figure.Figure at 0xf950688080>"
      ]
     },
     "metadata": {},
     "output_type": "display_data"
    }
   ],
   "source": [
    "plt.figure(figsize=(10,8))\n",
    "sb.boxplot(x='ethnicity',y='result',data=df)\n",
    "plt.xticks(rotation=45)\n",
    "plt.show()"
   ]
  },
  {
   "cell_type": "code",
   "execution_count": 11,
   "metadata": {},
   "outputs": [
    {
     "data": {
      "text/plain": [
       "4.0     174\n",
       "3.0     136\n",
       "5.0     129\n",
       "6.0     126\n",
       "8.0     121\n",
       "7.0     118\n",
       "9.0      98\n",
       "2.0      85\n",
       "10.0     56\n",
       "1.0      42\n",
       "0.0      15\n",
       "Name: result, dtype: int64"
      ]
     },
     "execution_count": 11,
     "metadata": {},
     "output_type": "execute_result"
    }
   ],
   "source": [
    "df.result.value_counts()"
   ]
  },
  {
   "cell_type": "code",
   "execution_count": 12,
   "metadata": {
    "collapsed": true
   },
   "outputs": [],
   "source": [
    "df['age_range'] = pd.cut(df.age,[4,11,17,max(df.age)],labels=['4-11 years','12-17 years','18 and older'],right=True)"
   ]
  },
  {
   "cell_type": "code",
   "execution_count": 13,
   "metadata": {},
   "outputs": [
    {
     "data": {
      "image/png": "[encoded data removed]",
      "text/plain": [
       "<matplotlib.figure.Figure at 0xf950e20550>"
      ]
     },
     "metadata": {},
     "output_type": "display_data"
    }
   ],
   "source": [
    "sb.swarmplot(x='age_range',y='result',data=df)\n",
    "plt.show()"
   ]
  },
  {
   "cell_type": "markdown",
   "metadata": {
    "collapsed": true
   },
   "source": [
    "### Exploring the data, some conclusions:\n",
    "    - Scoring 7 or higher is associated with Autism diagnosis\n",
    "    - Some interesting differences between ethnicities, but not clear if that is meaningful"
   ]
  },
  {
   "cell_type": "code",
   "execution_count": 14,
   "metadata": {},
   "outputs": [
    {
     "data": {
      "text/plain": [
       "[Family Member, Unknown, Self, Health care professional]\n",
       "Categories (4, object): [Family Member, Unknown, Self, Health care professional]"
      ]
     },
     "execution_count": 14,
     "metadata": {},
     "output_type": "execute_result"
    }
   ],
   "source": [
    "df.relation.unique()"
   ]
  },
  {
   "cell_type": "code",
   "execution_count": 15,
   "metadata": {},
   "outputs": [
    {
     "data": {
      "image/png": "[encoded data removed]",
      "text/plain": [
       "<matplotlib.figure.Figure at 0xf9509f8e80>"
      ]
     },
     "metadata": {},
     "output_type": "display_data"
    }
   ],
   "source": [
    "sb.boxplot(x='relation',y='result',data=df)\n",
    "plt.xticks(rotation=45)\n",
    "plt.show()"
   ]
  },
  {
   "cell_type": "code",
   "execution_count": 16,
   "metadata": {
    "collapsed": true
   },
   "outputs": [],
   "source": [
    "df = df.drop(['result','age'],axis=1)"
   ]
  },
  {
   "cell_type": "code",
   "execution_count": 17,
   "metadata": {},
   "outputs": [
    {
     "name": "stdout",
     "output_type": "stream",
     "text": [
      "<class 'pandas.core.frame.DataFrame'>\n",
      "Int64Index: 1100 entries, 0 to 103\n",
      "Data columns (total 20 columns):\n",
      "jaundice                        1100 non-null int64\n",
      "autism                          1100 non-null int64\n",
      "used_app_before                 1100 non-null int64\n",
      "Class/ASD                       1100 non-null int64\n",
      "gen_m                           1100 non-null int64\n",
      "eth_Black                       1100 non-null int64\n",
      "eth_Hispanic                    1100 non-null int64\n",
      "eth_Latino                      1100 non-null int64\n",
      "eth_Middle_Eastern              1100 non-null int64\n",
      "eth_Others                      1100 non-null int64\n",
      "eth_Pasifika                    1100 non-null int64\n",
      "eth_South_Asian                 1100 non-null int64\n",
      "eth_Turkish                     1100 non-null int64\n",
      "eth_Unknown                     1100 non-null int64\n",
      "eth_White-European              1100 non-null int64\n",
      "age_12-17 years                 1100 non-null int64\n",
      "age_18 and older                1100 non-null int64\n",
      "rel_Health care professional    1100 non-null int64\n",
      "rel_Self                        1100 non-null int64\n",
      "rel_Unknown                     1100 non-null int64\n",
      "dtypes: int64(20)\n",
      "memory usage: 220.5 KB\n"
     ]
    }
   ],
   "source": [
    "binary_df = df_get_uniform_dummies(df)\n",
    "binary_df = binary_df.iloc[:,10:]\n",
    "binary_df.info()"
   ]
  },
  {
   "cell_type": "markdown",
   "metadata": {},
   "source": [
    "** Now we are ready for machine learning! **"
   ]
  },
  {
   "cell_type": "markdown",
   "metadata": {},
   "source": [
    "### Bernoulli Naive Bayes Classifier (good for binary features)"
   ]
  },
  {
   "cell_type": "code",
   "execution_count": 18,
   "metadata": {
    "collapsed": true
   },
   "outputs": [],
   "source": [
    "bern = BernoulliNB()"
   ]
  },
  {
   "cell_type": "code",
   "execution_count": 19,
   "metadata": {},
   "outputs": [],
   "source": [
    "#feature_columns = binary_df.drop(['Class/ASD'],axis=1).columns\n",
    "features_df = binary_df.drop(['Class/ASD'],axis=1)\n",
    "feature_names = features_df.columns\n",
    "features = features_df.as_matrix()\n",
    "target = binary_df.loc[:,['Class/ASD']].values.reshape(len(binary_df),)"
   ]
  },
  {
   "cell_type": "code",
   "execution_count": 20,
   "metadata": {},
   "outputs": [
    {
     "data": {
      "text/plain": [
       "Index(['jaundice', 'autism', 'used_app_before', 'gen_m', 'eth_Black',\n",
       "       'eth_Hispanic', 'eth_Latino', 'eth_Middle_Eastern', 'eth_Others',\n",
       "       'eth_Pasifika', 'eth_South_Asian', 'eth_Turkish', 'eth_Unknown',\n",
       "       'eth_White-European', 'age_12-17 years', 'age_18 and older',\n",
       "       'rel_Health care professional', 'rel_Self', 'rel_Unknown'],\n",
       "      dtype='object')"
      ]
     },
     "execution_count": 20,
     "metadata": {},
     "output_type": "execute_result"
    }
   ],
   "source": [
    "feature_names"
   ]
  },
  {
   "cell_type": "code",
   "execution_count": 21,
   "metadata": {
    "collapsed": true
   },
   "outputs": [],
   "source": [
    "X_train, X_test, y_train, y_test = train_test_split(features,target,random_state=12)"
   ]
  },
  {
   "cell_type": "code",
   "execution_count": 22,
   "metadata": {},
   "outputs": [
    {
     "data": {
      "text/plain": [
       "BernoulliNB(alpha=1.0, binarize=0.0, class_prior=None, fit_prior=True)"
      ]
     },
     "execution_count": 22,
     "metadata": {},
     "output_type": "execute_result"
    }
   ],
   "source": [
    "bern.fit(X_train, y_train)"
   ]
  },
  {
   "cell_type": "code",
   "execution_count": 23,
   "metadata": {},
   "outputs": [],
   "source": [
    "bern_y_pred = bern.predict(X_test)\n",
    "bern_y_pred_proba = bern.predict_proba(X_test)\n",
    "#print(len(bern_y_pred[bern_y_pred == y_test])/len(y_test))"
   ]
  },
  {
   "cell_type": "code",
   "execution_count": 24,
   "metadata": {},
   "outputs": [
    {
     "data": {
      "text/plain": [
       "0.5"
      ]
     },
     "execution_count": 24,
     "metadata": {},
     "output_type": "execute_result"
    }
   ],
   "source": [
    "precision_score(bern_y_pred,y_test)"
   ]
  },
  {
   "cell_type": "code",
   "execution_count": 25,
   "metadata": {},
   "outputs": [
    {
     "data": {
      "text/plain": [
       "0.71272727272727276"
      ]
     },
     "execution_count": 25,
     "metadata": {},
     "output_type": "execute_result"
    }
   ],
   "source": [
    "accuracy_score(bern_y_pred,y_test)"
   ]
  },
  {
   "cell_type": "code",
   "execution_count": 26,
   "metadata": {},
   "outputs": [],
   "source": [
    "bern_log_loss = log_loss(bern_y_pred_proba[:,1],y_test)\n",
    "bern_fp, bern_tp, bern_thresholds = roc_curve(y_test,bern_y_pred_proba[:,1])\n",
    "bern_AUC = round(roc_auc_score(y_test,bern_y_pred_proba[:,1]),2)"
   ]
  },
  {
   "cell_type": "markdown",
   "metadata": {},
   "source": [
    "### Logistic Regression"
   ]
  },
  {
   "cell_type": "code",
   "execution_count": 27,
   "metadata": {
    "collapsed": true
   },
   "outputs": [],
   "source": [
    "logreg = LogisticRegression(C=.1)"
   ]
  },
  {
   "cell_type": "code",
   "execution_count": 28,
   "metadata": {},
   "outputs": [
    {
     "data": {
      "text/plain": [
       "LogisticRegression(C=0.1, class_weight=None, dual=False, fit_intercept=True,\n",
       "          intercept_scaling=1, max_iter=100, multi_class='ovr', n_jobs=1,\n",
       "          penalty='l2', random_state=None, solver='liblinear', tol=0.0001,\n",
       "          verbose=0, warm_start=False)"
      ]
     },
     "execution_count": 28,
     "metadata": {},
     "output_type": "execute_result"
    }
   ],
   "source": [
    "logreg.fit(X_train,y_train)"
   ]
  },
  {
   "cell_type": "code",
   "execution_count": 29,
   "metadata": {
    "collapsed": true
   },
   "outputs": [],
   "source": [
    "y_logreg_pred = logreg.predict(X_test)"
   ]
  },
  {
   "cell_type": "code",
   "execution_count": 30,
   "metadata": {},
   "outputs": [
    {
     "data": {
      "text/plain": [
       "array([0, 0, 0, 0, 0, 1, 1, 0, 1, 1, 0, 0, 0, 1, 0, 0, 0, 0, 1, 0, 0, 0, 0,\n",
       "       0, 1, 1, 1, 0, 0, 0, 0, 0, 0, 0, 0, 1, 0, 0, 1, 0, 0, 0, 0, 0, 0, 0,\n",
       "       0, 0, 0, 0, 0, 1, 0, 0, 1, 0, 0, 0, 0, 0, 0, 0, 0, 0, 0, 0, 0, 0, 0,\n",
       "       0, 0, 0, 1, 0, 0, 0, 0, 0, 0, 0, 0, 0, 0, 0, 0, 1, 1, 0, 0, 0, 0, 0,\n",
       "       1, 0, 1, 0, 1, 0, 0, 0, 0, 0, 1, 0, 0, 0, 0, 0, 0, 1, 0, 1, 0, 0, 0,\n",
       "       0, 0, 0, 0, 0, 0, 0, 0, 1, 0, 1, 0, 0, 1, 0, 0, 0, 0, 0, 0, 0, 0, 1,\n",
       "       0, 0, 0, 1, 0, 1, 1, 0, 0, 0, 0, 0, 0, 0, 0, 0, 0, 1, 0, 0, 0, 0, 0,\n",
       "       0, 0, 0, 0, 0, 0, 0, 0, 0, 0, 0, 0, 0, 0, 0, 0, 1, 1, 0, 0, 0, 0, 1,\n",
       "       0, 0, 1, 1, 0, 0, 0, 0, 0, 1, 0, 0, 0, 0, 0, 0, 0, 0, 0, 0, 0, 1, 1,\n",
       "       0, 0, 0, 0, 0, 0, 1, 0, 0, 0, 0, 0, 0, 0, 0, 1, 0, 0, 1, 0, 0, 0, 0,\n",
       "       0, 0, 0, 0, 0, 0, 0, 0, 0, 1, 0, 1, 0, 0, 0, 0, 0, 1, 0, 0, 0, 1, 0,\n",
       "       0, 1, 0, 0, 1, 0, 0, 0, 0, 0, 0, 1, 0, 0, 1, 0, 0, 0, 1, 0, 1, 0], dtype=int64)"
      ]
     },
     "execution_count": 30,
     "metadata": {},
     "output_type": "execute_result"
    }
   ],
   "source": [
    "y_logreg_pred"
   ]
  },
  {
   "cell_type": "code",
   "execution_count": 31,
   "metadata": {},
   "outputs": [
    {
     "data": {
      "text/plain": [
       "0.70545454545454545"
      ]
     },
     "execution_count": 31,
     "metadata": {},
     "output_type": "execute_result"
    }
   ],
   "source": [
    "accuracy_score(y_logreg_pred,y_test)"
   ]
  },
  {
   "cell_type": "code",
   "execution_count": 32,
   "metadata": {},
   "outputs": [
    {
     "data": {
      "text/plain": [
       "0.33333333333333331"
      ]
     },
     "execution_count": 32,
     "metadata": {},
     "output_type": "execute_result"
    }
   ],
   "source": [
    "precision_score(y_logreg_pred,y_test)"
   ]
  },
  {
   "cell_type": "code",
   "execution_count": 33,
   "metadata": {},
   "outputs": [],
   "source": [
    "y_logreg_pred_proba = logreg.predict_proba(X_test)"
   ]
  },
  {
   "cell_type": "code",
   "execution_count": 34,
   "metadata": {
    "collapsed": true
   },
   "outputs": [],
   "source": [
    "logreg_log_loss = log_loss(y_logreg_pred_proba[:,1],y_test)\n",
    "log_fp, log_tp, log_thresholds = roc_curve(y_test,y_logreg_pred_proba[:,1])\n",
    "log_AUC = round(roc_auc_score(y_test,y_logreg_pred_proba[0:,1]),2)"
   ]
  },
  {
   "cell_type": "code",
   "execution_count": 35,
   "metadata": {},
   "outputs": [
    {
     "data": {
      "image/png": "[encoded data removed]",
      "text/plain": [
       "<matplotlib.figure.Figure at 0xf950f2f470>"
      ]
     },
     "metadata": {},
     "output_type": "display_data"
    }
   ],
   "source": [
    "ax = plt.plot(log_fp,log_tp,label=\"LogReg AUC: {}, Loss: {}\".format(log_AUC,round(logreg_log_loss,3)))\n",
    "ax = plt.plot(bern_fp,bern_tp,label=\"Bernoulli AUC: {}, Loss: {}\".format(bern_AUC,round(bern_log_loss,3)))\n",
    "ax = plt.plot([0,1],[0,1],linestyle='--',label='Random')\n",
    "plt.xlabel('False Positive Rate')\n",
    "plt.ylabel('True Positive Rate')\n",
    "plt.legend(loc=0,fontsize=14)\n",
    "plt.title('Logistic Regression vs Bernoulli Receiver Operating Curve',fontsize=16)\n",
    "plt.margins(0.02)\n",
    "plt.show()"
   ]
  },
  {
   "cell_type": "code",
   "execution_count": 36,
   "metadata": {},
   "outputs": [
    {
     "data": {
      "text/plain": [
       "0.74897897897897903"
      ]
     },
     "execution_count": 36,
     "metadata": {},
     "output_type": "execute_result"
    }
   ],
   "source": [
    "roc_auc_score(y_test,y_logreg_pred_proba[0:,1])"
   ]
  },
  {
   "cell_type": "markdown",
   "metadata": {},
   "source": [
    "### K-Neighbors Classifier"
   ]
  },
  {
   "cell_type": "code",
   "execution_count": 37,
   "metadata": {
    "collapsed": true
   },
   "outputs": [],
   "source": [
    "from sklearn.neighbors import KNeighborsClassifier"
   ]
  },
  {
   "cell_type": "code",
   "execution_count": 38,
   "metadata": {
    "collapsed": true
   },
   "outputs": [],
   "source": [
    "neighbors = np.arange(1,10)"
   ]
  },
  {
   "cell_type": "code",
   "execution_count": 39,
   "metadata": {},
   "outputs": [
    {
     "data": {
      "image/png": "[encoded data removed]",
      "text/plain": [
       "<matplotlib.figure.Figure at 0xf950f074a8>"
      ]
     },
     "metadata": {},
     "output_type": "display_data"
    }
   ],
   "source": [
    "test_scores = np.empty(len(neighbors))\n",
    "train_scores = np.empty(len(neighbors))\n",
    "\n",
    "for i, k in enumerate(neighbors):\n",
    "    knn = KNeighborsClassifier(n_neighbors=k)\n",
    "    knn.fit(X_train,y_train)\n",
    "    test_scores[i] = knn.score(X_test,y_test)\n",
    "    train_scores[i] = knn.score(X_train,y_train)\n",
    "    \n",
    "plt.plot(neighbors,test_scores,label='Test Data Scores')\n",
    "plt.plot(neighbors,train_scores,label='Training Data Scores')\n",
    "plt.title('KNN Neighbors Scores on Test and Training Data')\n",
    "plt.annotate('Best Test Score',xy=(7,.705),xytext=(6,.73),arrowprops={'facecolor':'#42c5f4','width':2})\n",
    "plt.legend(loc=0)\n",
    "plt.show()"
   ]
  },
  {
   "cell_type": "code",
   "execution_count": 40,
   "metadata": {
    "collapsed": true
   },
   "outputs": [],
   "source": [
    "knn = KNeighborsClassifier(n_neighbors=7)"
   ]
  },
  {
   "cell_type": "code",
   "execution_count": 41,
   "metadata": {},
   "outputs": [
    {
     "data": {
      "text/plain": [
       "KNeighborsClassifier(algorithm='auto', leaf_size=30, metric='minkowski',\n",
       "           metric_params=None, n_jobs=1, n_neighbors=7, p=2,\n",
       "           weights='uniform')"
      ]
     },
     "execution_count": 41,
     "metadata": {},
     "output_type": "execute_result"
    }
   ],
   "source": [
    "knn.fit(X_train,y_train)"
   ]
  },
  {
   "cell_type": "code",
   "execution_count": 42,
   "metadata": {},
   "outputs": [],
   "source": [
    "knn_y_pred = knn.predict(X_test)"
   ]
  },
  {
   "cell_type": "code",
   "execution_count": 43,
   "metadata": {},
   "outputs": [
    {
     "data": {
      "text/plain": [
       "0.70060606060606057"
      ]
     },
     "execution_count": 43,
     "metadata": {},
     "output_type": "execute_result"
    }
   ],
   "source": [
    "knn.score(X_train,y_train)"
   ]
  },
  {
   "cell_type": "code",
   "execution_count": 44,
   "metadata": {
    "collapsed": true
   },
   "outputs": [],
   "source": [
    "knn_pred_proba = knn.predict_proba(X_test)\n",
    "knn_fp, knn_tp, knn_thresholds = roc_curve(y_test,knn_pred_proba[:,1])\n",
    "knn_AUC = round(roc_auc_score(y_test,knn_pred_proba[:,1]),2)"
   ]
  },
  {
   "cell_type": "code",
   "execution_count": 45,
   "metadata": {},
   "outputs": [
    {
     "data": {
      "text/plain": [
       "0.67272727272727273"
      ]
     },
     "execution_count": 45,
     "metadata": {},
     "output_type": "execute_result"
    }
   ],
   "source": [
    "knn.score(X_test,y_test)"
   ]
  },
  {
   "cell_type": "code",
   "execution_count": 46,
   "metadata": {
    "collapsed": true
   },
   "outputs": [],
   "source": [
    "knn_log_loss = log_loss(knn_pred_proba[:,1],y_test)"
   ]
  },
  {
   "cell_type": "markdown",
   "metadata": {},
   "source": [
    "### Using Decision Tree Classifier ###"
   ]
  },
  {
   "cell_type": "code",
   "execution_count": 47,
   "metadata": {
    "collapsed": true
   },
   "outputs": [],
   "source": [
    "from sklearn.tree import DecisionTreeClassifier"
   ]
  },
  {
   "cell_type": "code",
   "execution_count": 48,
   "metadata": {
    "collapsed": true
   },
   "outputs": [],
   "source": [
    "tree = DecisionTreeClassifier(min_samples_leaf=10)"
   ]
  },
  {
   "cell_type": "code",
   "execution_count": 49,
   "metadata": {},
   "outputs": [
    {
     "data": {
      "text/plain": [
       "DecisionTreeClassifier(class_weight=None, criterion='gini', max_depth=None,\n",
       "            max_features=None, max_leaf_nodes=None,\n",
       "            min_impurity_decrease=0.0, min_impurity_split=None,\n",
       "            min_samples_leaf=10, min_samples_split=2,\n",
       "            min_weight_fraction_leaf=0.0, presort=False, random_state=None,\n",
       "            splitter='best')"
      ]
     },
     "execution_count": 49,
     "metadata": {},
     "output_type": "execute_result"
    }
   ],
   "source": [
    "tree.fit(X_train,y_train)"
   ]
  },
  {
   "cell_type": "code",
   "execution_count": 50,
   "metadata": {
    "collapsed": true
   },
   "outputs": [],
   "source": [
    "tree_y_pred = tree.predict(X_test)\n",
    "tree_y_pred_proba = tree.predict_proba(X_test)"
   ]
  },
  {
   "cell_type": "code",
   "execution_count": 51,
   "metadata": {},
   "outputs": [
    {
     "data": {
      "text/plain": [
       "0.66181818181818186"
      ]
     },
     "execution_count": 51,
     "metadata": {},
     "output_type": "execute_result"
    }
   ],
   "source": [
    "tree.score(X_test,y_test)"
   ]
  },
  {
   "cell_type": "code",
   "execution_count": 52,
   "metadata": {},
   "outputs": [],
   "source": [
    "tree_log_loss = log_loss(tree_y_pred_proba[:,1],y_test)\n",
    "tree_fp,tree_tp, thresholds = roc_curve(y_test,tree_y_pred_proba[:,1])\n",
    "tree_AUC = round(roc_auc_score(y_test,tree_y_pred_proba[0:,1]),2)"
   ]
  },
  {
   "cell_type": "code",
   "execution_count": 53,
   "metadata": {},
   "outputs": [
    {
     "data": {
      "image/png": "[encoded data removed]",
      "text/plain": [
       "<matplotlib.figure.Figure at 0xf9512192e8>"
      ]
     },
     "metadata": {},
     "output_type": "display_data"
    }
   ],
   "source": [
    "log_AUC = round(roc_auc_score(y_test,y_logreg_pred_proba[0:,1]),2)\n",
    "\n",
    "ax = plt.plot(knn_fp,knn_tp,label=\"KNN AUC: {}, Loss: {}\".format(knn_AUC,round(knn_log_loss,3)))\n",
    "ax = plt.plot(tree_fp,tree_tp,label=\"DecTree AUC: {}, Loss: {}\".format(tree_AUC,round(tree_log_loss,3)))\n",
    "ax = plt.plot(log_fp,log_tp,label=\"LogReg AUC: {}, Loss: {}\".format(log_AUC,round(logreg_log_loss,3)))\n",
    "ax = plt.plot(bern_fp,bern_tp,label=\"Bernoulli AUC: {}, Loss: {}\".format(bern_AUC,round(bern_log_loss,3)))\n",
    "ax = plt.plot([0,1],[0,1],linestyle='--')\n",
    "\n",
    "plt.xlabel('False Positive Rate')\n",
    "plt.ylabel('True Positive Rate')\n",
    "plt.legend(loc=0,fontsize=14)\n",
    "plt.title('Model Comparison: Receiver Operating Curve',fontsize=16)\n",
    "plt.margins(0.02)\n",
    "plt.annotate(\"Random Prediction\",xy=(.51,.49),xytext=(.73,.48),arrowprops={'facecolor':'red'})\n",
    "plt.show()"
   ]
  },
  {
   "cell_type": "markdown",
   "metadata": {},
   "source": [
    "### So far, Logistic Regression provides the most accurate model"
   ]
  },
  {
   "cell_type": "code",
   "execution_count": 54,
   "metadata": {
    "collapsed": true
   },
   "outputs": [],
   "source": [
    "mat = np.array([[3,2,5],[6,1,4]])"
   ]
  },
  {
   "cell_type": "code",
   "execution_count": 55,
   "metadata": {},
   "outputs": [
    {
     "data": {
      "text/plain": [
       "array([[3, 2, 5],\n",
       "       [6, 1, 4]])"
      ]
     },
     "execution_count": 55,
     "metadata": {},
     "output_type": "execute_result"
    }
   ],
   "source": [
    "mat"
   ]
  },
  {
   "cell_type": "code",
   "execution_count": 56,
   "metadata": {},
   "outputs": [
    {
     "data": {
      "text/plain": [
       "array([[3, 6],\n",
       "       [2, 1],\n",
       "       [5, 4]])"
      ]
     },
     "execution_count": 56,
     "metadata": {},
     "output_type": "execute_result"
    }
   ],
   "source": [
    "mat.T"
   ]
  },
  {
   "cell_type": "code",
   "execution_count": 57,
   "metadata": {
    "collapsed": true
   },
   "outputs": [],
   "source": [
    "mat2 = np.array([[2,4],[1,3],[0,0],[0,0]])"
   ]
  },
  {
   "cell_type": "code",
   "execution_count": 58,
   "metadata": {},
   "outputs": [
    {
     "data": {
      "text/plain": [
       "array([[2, 4],\n",
       "       [1, 3],\n",
       "       [0, 0],\n",
       "       [0, 0]])"
      ]
     },
     "execution_count": 58,
     "metadata": {},
     "output_type": "execute_result"
    }
   ],
   "source": [
    "mat2"
   ]
  },
  {
   "cell_type": "code",
   "execution_count": 59,
   "metadata": {},
   "outputs": [
    {
     "data": {
      "text/plain": [
       "array([[2, 1, 0, 0],\n",
       "       [4, 3, 0, 0]])"
      ]
     },
     "execution_count": 59,
     "metadata": {},
     "output_type": "execute_result"
    }
   ],
   "source": [
    "mat2.T"
   ]
  },
  {
   "cell_type": "code",
   "execution_count": 60,
   "metadata": {
    "collapsed": true
   },
   "outputs": [],
   "source": [
    "prod = mat2 @ mat2.T"
   ]
  },
  {
   "cell_type": "code",
   "execution_count": 61,
   "metadata": {},
   "outputs": [
    {
     "data": {
      "text/plain": [
       "array([20, 10,  0,  0])"
      ]
     },
     "execution_count": 61,
     "metadata": {},
     "output_type": "execute_result"
    }
   ],
   "source": [
    "prod.diagonal()"
   ]
  },
  {
   "cell_type": "code",
   "execution_count": 62,
   "metadata": {},
   "outputs": [
    {
     "data": {
      "text/plain": [
       "(array([ 29.86606875,   0.13393125,   0.        ,   0.        ]),\n",
       " array([[ 0.81741556, -0.57604844,  0.        ,  0.        ],\n",
       "        [ 0.57604844,  0.81741556,  0.        ,  0.        ],\n",
       "        [ 0.        ,  0.        ,  1.        ,  0.        ],\n",
       "        [ 0.        ,  0.        ,  0.        ,  1.        ]]))"
      ]
     },
     "execution_count": 62,
     "metadata": {},
     "output_type": "execute_result"
    }
   ],
   "source": [
    "np.linalg.eig(prod)"
   ]
  },
  {
   "cell_type": "code",
   "execution_count": 63,
   "metadata": {
    "collapsed": true
   },
   "outputs": [],
   "source": [
    "w, v = np.linalg.eig(prod)"
   ]
  },
  {
   "cell_type": "code",
   "execution_count": 64,
   "metadata": {
    "collapsed": true
   },
   "outputs": [],
   "source": [
    "vec = np.sqrt(w)"
   ]
  },
  {
   "cell_type": "code",
   "execution_count": 65,
   "metadata": {
    "collapsed": true
   },
   "outputs": [],
   "source": [
    "eigen_vec = np.diag(vec)[:mat2.shape[0],:mat2.shape[1]]"
   ]
  },
  {
   "cell_type": "code",
   "execution_count": 66,
   "metadata": {
    "collapsed": true
   },
   "outputs": [],
   "source": [
    "def singular_value_decomposition(matrix):\n",
    "    w, v = np.linalg.eig(matrix @ matrix.T)\n",
    "    svd = np.diag(np.sqrt(w))[:matrix.shape[1],:matrix.shape[1]]\n",
    "    return svd"
   ]
  },
  {
   "cell_type": "code",
   "execution_count": 67,
   "metadata": {},
   "outputs": [
    {
     "data": {
      "text/plain": [
       "array([[ 5.4649857 ,  0.        ],\n",
       "       [ 0.        ,  0.36596619]])"
      ]
     },
     "execution_count": 67,
     "metadata": {},
     "output_type": "execute_result"
    }
   ],
   "source": [
    "singular_value_decomposition(mat2)"
   ]
  },
  {
   "cell_type": "markdown",
   "metadata": {},
   "source": [
    "### Trying out Neural Network Model to Improve Predictions"
   ]
  },
  {
   "cell_type": "code",
   "execution_count": 68,
   "metadata": {
    "collapsed": true
   },
   "outputs": [],
   "source": [
    "feature_columns = features.shape[1]\n",
    "\n",
    "target_split = to_categorical(target)"
   ]
  },
  {
   "cell_type": "code",
   "execution_count": 69,
   "metadata": {
    "collapsed": true
   },
   "outputs": [],
   "source": [
    "nnX_train, nnX_test, nny_train, nny_test = train_test_split(features,target_split,random_state=12)"
   ]
  },
  {
   "cell_type": "code",
   "execution_count": 70,
   "metadata": {
    "collapsed": true
   },
   "outputs": [],
   "source": [
    "model = Sequential()"
   ]
  },
  {
   "cell_type": "code",
   "execution_count": 71,
   "metadata": {
    "collapsed": true
   },
   "outputs": [],
   "source": [
    "model.add(Dense(100,activation='relu',input_shape=(feature_columns,)))"
   ]
  },
  {
   "cell_type": "code",
   "execution_count": 72,
   "metadata": {
    "collapsed": true
   },
   "outputs": [],
   "source": [
    "model.add(Dense(2,activation='softmax'))"
   ]
  },
  {
   "cell_type": "code",
   "execution_count": 73,
   "metadata": {
    "collapsed": true
   },
   "outputs": [],
   "source": [
    "model.compile(optimizer='rmsprop',loss='binary_crossentropy',metrics=['accuracy'])"
   ]
  },
  {
   "cell_type": "code",
   "execution_count": 74,
   "metadata": {},
   "outputs": [
    {
     "name": "stdout",
     "output_type": "stream",
     "text": [
      "Epoch 1/120\n",
      "825/825 [==============================] - 0s 484us/step - loss: 0.6347 - acc: 0.6533\n",
      "Epoch 2/120\n",
      "825/825 [==============================] - 0s 58us/step - loss: 0.6001 - acc: 0.6606\n",
      "Epoch 3/120\n",
      "825/825 [==============================] - 0s 52us/step - loss: 0.5868 - acc: 0.6558\n",
      "Epoch 4/120\n",
      "825/825 [==============================] - 0s 34us/step - loss: 0.5794 - acc: 0.6739\n",
      "Epoch 5/120\n",
      "825/825 [==============================] - 0s 50us/step - loss: 0.5732 - acc: 0.6788\n",
      "Epoch 6/120\n",
      "825/825 [==============================] - 0s 35us/step - loss: 0.5692 - acc: 0.6873\n",
      "Epoch 7/120\n",
      "825/825 [==============================] - 0s 46us/step - loss: 0.5660 - acc: 0.6897\n",
      "Epoch 8/120\n",
      "825/825 [==============================] - 0s 38us/step - loss: 0.5640 - acc: 0.6921\n",
      "Epoch 9/120\n",
      "825/825 [==============================] - 0s 35us/step - loss: 0.5610 - acc: 0.6897\n",
      "Epoch 10/120\n",
      "825/825 [==============================] - 0s 49us/step - loss: 0.5581 - acc: 0.7018\n",
      "Epoch 11/120\n",
      "825/825 [==============================] - 0s 35us/step - loss: 0.5573 - acc: 0.6909\n",
      "Epoch 12/120\n",
      "825/825 [==============================] - 0s 50us/step - loss: 0.5538 - acc: 0.7139\n",
      "Epoch 13/120\n",
      "825/825 [==============================] - 0s 34us/step - loss: 0.5532 - acc: 0.6909\n",
      "Epoch 14/120\n",
      "825/825 [==============================] - 0s 49us/step - loss: 0.5516 - acc: 0.6958\n",
      "Epoch 15/120\n",
      "825/825 [==============================] - 0s 43us/step - loss: 0.5498 - acc: 0.7030\n",
      "Epoch 16/120\n",
      "825/825 [==============================] - 0s 36us/step - loss: 0.5483 - acc: 0.7079\n",
      "Epoch 17/120\n",
      "825/825 [==============================] - 0s 46us/step - loss: 0.5465 - acc: 0.7176\n",
      "Epoch 18/120\n",
      "825/825 [==============================] - 0s 35us/step - loss: 0.5468 - acc: 0.7030\n",
      "Epoch 19/120\n",
      "825/825 [==============================] - 0s 50us/step - loss: 0.5436 - acc: 0.7067\n",
      "Epoch 20/120\n",
      "825/825 [==============================] - 0s 35us/step - loss: 0.5436 - acc: 0.7103\n",
      "Epoch 21/120\n",
      "825/825 [==============================] - 0s 39us/step - loss: 0.5423 - acc: 0.7079\n",
      "Epoch 22/120\n",
      "825/825 [==============================] - 0s 49us/step - loss: 0.5408 - acc: 0.7030\n",
      "Epoch 23/120\n",
      "825/825 [==============================] - 0s 35us/step - loss: 0.5402 - acc: 0.7103\n",
      "Epoch 24/120\n",
      "825/825 [==============================] - 0s 56us/step - loss: 0.5393 - acc: 0.7115\n",
      "Epoch 25/120\n",
      "825/825 [==============================] - 0s 39us/step - loss: 0.5376 - acc: 0.7152\n",
      "Epoch 26/120\n",
      "825/825 [==============================] - 0s 47us/step - loss: 0.5363 - acc: 0.7152\n",
      "Epoch 27/120\n",
      "825/825 [==============================] - 0s 40us/step - loss: 0.5366 - acc: 0.7152\n",
      "Epoch 28/120\n",
      "825/825 [==============================] - 0s 39us/step - loss: 0.5354 - acc: 0.7176\n",
      "Epoch 29/120\n",
      "825/825 [==============================] - 0s 53us/step - loss: 0.5329 - acc: 0.7200\n",
      "Epoch 30/120\n",
      "825/825 [==============================] - 0s 51us/step - loss: 0.5328 - acc: 0.7188\n",
      "Epoch 31/120\n",
      "825/825 [==============================] - 0s 49us/step - loss: 0.5335 - acc: 0.7139\n",
      "Epoch 32/120\n",
      "825/825 [==============================] - 0s 35us/step - loss: 0.5308 - acc: 0.7273\n",
      "Epoch 33/120\n",
      "825/825 [==============================] - 0s 38us/step - loss: 0.5313 - acc: 0.7176\n",
      "Epoch 34/120\n",
      "825/825 [==============================] - 0s 33us/step - loss: 0.5299 - acc: 0.7188\n",
      "Epoch 35/120\n",
      "825/825 [==============================] - 0s 33us/step - loss: 0.5283 - acc: 0.7176\n",
      "Epoch 36/120\n",
      "825/825 [==============================] - 0s 32us/step - loss: 0.5284 - acc: 0.7164\n",
      "Epoch 37/120\n",
      "825/825 [==============================] - 0s 44us/step - loss: 0.5284 - acc: 0.7248\n",
      "Epoch 38/120\n",
      "825/825 [==============================] - 0s 39us/step - loss: 0.5255 - acc: 0.7212\n",
      "Epoch 39/120\n",
      "825/825 [==============================] - 0s 52us/step - loss: 0.5260 - acc: 0.7224\n",
      "Epoch 40/120\n",
      "825/825 [==============================] - 0s 41us/step - loss: 0.5252 - acc: 0.7261\n",
      "Epoch 41/120\n",
      "825/825 [==============================] - 0s 39us/step - loss: 0.5246 - acc: 0.7309\n",
      "Epoch 42/120\n",
      "825/825 [==============================] - 0s 39us/step - loss: 0.5235 - acc: 0.7248\n",
      "Epoch 43/120\n",
      "825/825 [==============================] - 0s 49us/step - loss: 0.5225 - acc: 0.7224\n",
      "Epoch 44/120\n",
      "825/825 [==============================] - 0s 38us/step - loss: 0.5226 - acc: 0.7200\n",
      "Epoch 45/120\n",
      "825/825 [==============================] - 0s 41us/step - loss: 0.5226 - acc: 0.7248\n",
      "Epoch 46/120\n",
      "825/825 [==============================] - 0s 49us/step - loss: 0.5201 - acc: 0.7370\n",
      "Epoch 47/120\n",
      "825/825 [==============================] - 0s 35us/step - loss: 0.5202 - acc: 0.7273\n",
      "Epoch 48/120\n",
      "825/825 [==============================] - 0s 47us/step - loss: 0.5200 - acc: 0.7297\n",
      "Epoch 49/120\n",
      "825/825 [==============================] - 0s 40us/step - loss: 0.5187 - acc: 0.7309\n",
      "Epoch 50/120\n",
      "825/825 [==============================] - 0s 35us/step - loss: 0.5185 - acc: 0.7212\n",
      "Epoch 51/120\n",
      "825/825 [==============================] - 0s 53us/step - loss: 0.5175 - acc: 0.7285\n",
      "Epoch 52/120\n",
      "825/825 [==============================] - 0s 39us/step - loss: 0.5172 - acc: 0.7309\n",
      "Epoch 53/120\n",
      "825/825 [==============================] - 0s 35us/step - loss: 0.5158 - acc: 0.7430\n",
      "Epoch 54/120\n",
      "825/825 [==============================] - 0s 52us/step - loss: 0.5159 - acc: 0.7382\n",
      "Epoch 55/120\n",
      "825/825 [==============================] - 0s 36us/step - loss: 0.5153 - acc: 0.7333\n",
      "Epoch 56/120\n",
      "825/825 [==============================] - 0s 36us/step - loss: 0.5138 - acc: 0.7382\n",
      "Epoch 57/120\n",
      "825/825 [==============================] - 0s 51us/step - loss: 0.5150 - acc: 0.7333\n",
      "Epoch 58/120\n",
      "825/825 [==============================] - 0s 36us/step - loss: 0.5126 - acc: 0.7394\n",
      "Epoch 59/120\n",
      "825/825 [==============================] - 0s 34us/step - loss: 0.5129 - acc: 0.7321\n",
      "Epoch 60/120\n",
      "825/825 [==============================] - 0s 50us/step - loss: 0.5110 - acc: 0.7309\n",
      "Epoch 61/120\n",
      "825/825 [==============================] - 0s 36us/step - loss: 0.5124 - acc: 0.7358\n",
      "Epoch 62/120\n",
      "825/825 [==============================] - 0s 43us/step - loss: 0.5098 - acc: 0.7406\n",
      "Epoch 63/120\n",
      "825/825 [==============================] - 0s 38us/step - loss: 0.5098 - acc: 0.7370\n",
      "Epoch 64/120\n",
      "825/825 [==============================] - 0s 40us/step - loss: 0.5086 - acc: 0.7406\n",
      "Epoch 65/120\n",
      "825/825 [==============================] - 0s 36us/step - loss: 0.5085 - acc: 0.7382\n",
      "Epoch 66/120\n",
      "825/825 [==============================] - 0s 40us/step - loss: 0.5083 - acc: 0.7430\n",
      "Epoch 67/120\n",
      "825/825 [==============================] - 0s 39us/step - loss: 0.5066 - acc: 0.7406\n",
      "Epoch 68/120\n",
      "825/825 [==============================] - 0s 38us/step - loss: 0.5069 - acc: 0.7406\n",
      "Epoch 69/120\n",
      "825/825 [==============================] - 0s 40us/step - loss: 0.5065 - acc: 0.7442\n",
      "Epoch 70/120\n",
      "825/825 [==============================] - 0s 40us/step - loss: 0.5051 - acc: 0.7467\n",
      "Epoch 71/120\n",
      "825/825 [==============================] - 0s 36us/step - loss: 0.5038 - acc: 0.7430\n",
      "Epoch 72/120\n",
      "825/825 [==============================] - 0s 43us/step - loss: 0.5049 - acc: 0.7455\n",
      "Epoch 73/120\n",
      "825/825 [==============================] - 0s 36us/step - loss: 0.5031 - acc: 0.7345\n",
      "Epoch 74/120\n",
      "825/825 [==============================] - 0s 38us/step - loss: 0.5030 - acc: 0.7358\n",
      "Epoch 75/120\n",
      "825/825 [==============================] - 0s 36us/step - loss: 0.5026 - acc: 0.7442\n",
      "Epoch 76/120\n",
      "825/825 [==============================] - 0s 38us/step - loss: 0.5022 - acc: 0.7479\n",
      "Epoch 77/120\n",
      "825/825 [==============================] - 0s 40us/step - loss: 0.5010 - acc: 0.7394\n",
      "Epoch 78/120\n",
      "825/825 [==============================] - 0s 38us/step - loss: 0.5002 - acc: 0.7539\n",
      "Epoch 79/120\n",
      "825/825 [==============================] - 0s 41us/step - loss: 0.5012 - acc: 0.7442\n",
      "Epoch 80/120\n",
      "825/825 [==============================] - 0s 38us/step - loss: 0.5004 - acc: 0.7467\n",
      "Epoch 81/120\n",
      "825/825 [==============================] - 0s 41us/step - loss: 0.4981 - acc: 0.7491\n",
      "Epoch 82/120\n",
      "825/825 [==============================] - 0s 36us/step - loss: 0.4991 - acc: 0.7406\n",
      "Epoch 83/120\n",
      "825/825 [==============================] - 0s 39us/step - loss: 0.4983 - acc: 0.7406\n",
      "Epoch 84/120\n"
     ]
    },
    {
     "name": "stdout",
     "output_type": "stream",
     "text": [
      "825/825 [==============================] - 0s 36us/step - loss: 0.4978 - acc: 0.7442\n",
      "Epoch 85/120\n",
      "825/825 [==============================] - 0s 36us/step - loss: 0.4966 - acc: 0.7515\n",
      "Epoch 86/120\n",
      "825/825 [==============================] - ETA: 0s - loss: 0.5539 - acc: 0.660 - 0s 34us/step - loss: 0.4973 - acc: 0.7406\n",
      "Epoch 87/120\n",
      "825/825 [==============================] - 0s 43us/step - loss: 0.4961 - acc: 0.7539\n",
      "Epoch 88/120\n",
      "825/825 [==============================] - 0s 40us/step - loss: 0.4950 - acc: 0.7370\n",
      "Epoch 89/120\n",
      "825/825 [==============================] - 0s 41us/step - loss: 0.4944 - acc: 0.7467\n",
      "Epoch 90/120\n",
      "825/825 [==============================] - 0s 39us/step - loss: 0.4946 - acc: 0.7491\n",
      "Epoch 91/120\n",
      "825/825 [==============================] - 0s 40us/step - loss: 0.4950 - acc: 0.7442\n",
      "Epoch 92/120\n",
      "825/825 [==============================] - 0s 39us/step - loss: 0.4925 - acc: 0.7552\n",
      "Epoch 93/120\n",
      "825/825 [==============================] - 0s 41us/step - loss: 0.4933 - acc: 0.7503\n",
      "Epoch 94/120\n",
      "825/825 [==============================] - 0s 41us/step - loss: 0.4939 - acc: 0.7479\n",
      "Epoch 95/120\n",
      "825/825 [==============================] - 0s 40us/step - loss: 0.4923 - acc: 0.7539\n",
      "Epoch 96/120\n",
      "825/825 [==============================] - 0s 46us/step - loss: 0.4924 - acc: 0.7467\n",
      "Epoch 97/120\n",
      "825/825 [==============================] - 0s 41us/step - loss: 0.4910 - acc: 0.7515\n",
      "Epoch 98/120\n",
      "825/825 [==============================] - 0s 36us/step - loss: 0.4894 - acc: 0.7406\n",
      "Epoch 99/120\n",
      "825/825 [==============================] - 0s 36us/step - loss: 0.4897 - acc: 0.7588\n",
      "Epoch 100/120\n",
      "825/825 [==============================] - 0s 40us/step - loss: 0.4904 - acc: 0.7539\n",
      "Epoch 101/120\n",
      "825/825 [==============================] - 0s 36us/step - loss: 0.4905 - acc: 0.7479\n",
      "Epoch 102/120\n",
      "825/825 [==============================] - 0s 36us/step - loss: 0.4905 - acc: 0.7515\n",
      "Epoch 103/120\n",
      "825/825 [==============================] - 0s 40us/step - loss: 0.4884 - acc: 0.7527\n",
      "Epoch 104/120\n",
      "825/825 [==============================] - 0s 39us/step - loss: 0.4880 - acc: 0.7539\n",
      "Epoch 105/120\n",
      "825/825 [==============================] - 0s 35us/step - loss: 0.4878 - acc: 0.7467\n",
      "Epoch 106/120\n",
      "825/825 [==============================] - 0s 41us/step - loss: 0.4881 - acc: 0.7539\n",
      "Epoch 107/120\n",
      "825/825 [==============================] - 0s 40us/step - loss: 0.4875 - acc: 0.7539\n",
      "Epoch 108/120\n",
      "825/825 [==============================] - 0s 36us/step - loss: 0.4862 - acc: 0.7467\n",
      "Epoch 109/120\n",
      "825/825 [==============================] - 0s 36us/step - loss: 0.4867 - acc: 0.7503\n",
      "Epoch 110/120\n",
      "825/825 [==============================] - 0s 39us/step - loss: 0.4857 - acc: 0.7539\n",
      "Epoch 111/120\n",
      "825/825 [==============================] - 0s 41us/step - loss: 0.4864 - acc: 0.7612\n",
      "Epoch 112/120\n",
      "825/825 [==============================] - 0s 36us/step - loss: 0.4856 - acc: 0.7515\n",
      "Epoch 113/120\n",
      "825/825 [==============================] - 0s 36us/step - loss: 0.4842 - acc: 0.7600\n",
      "Epoch 114/120\n",
      "825/825 [==============================] - 0s 38us/step - loss: 0.4848 - acc: 0.7515\n",
      "Epoch 115/120\n",
      "825/825 [==============================] - 0s 36us/step - loss: 0.4843 - acc: 0.7564\n",
      "Epoch 116/120\n",
      "825/825 [==============================] - 0s 40us/step - loss: 0.4837 - acc: 0.7527\n",
      "Epoch 117/120\n",
      "825/825 [==============================] - 0s 41us/step - loss: 0.4838 - acc: 0.7588\n",
      "Epoch 118/120\n",
      "825/825 [==============================] - 0s 35us/step - loss: 0.4834 - acc: 0.7588\n",
      "Epoch 119/120\n",
      "825/825 [==============================] - 0s 40us/step - loss: 0.4832 - acc: 0.7600\n",
      "Epoch 120/120\n",
      "825/825 [==============================] - 0s 35us/step - loss: 0.4815 - acc: 0.7576\n"
     ]
    }
   ],
   "source": [
    "model_training = model.fit(nnX_train,nny_train,batch_size=50,epochs=120)"
   ]
  },
  {
   "cell_type": "code",
   "execution_count": 75,
   "metadata": {},
   "outputs": [
    {
     "data": {
      "text/plain": [
       "array([[ 0.59572172,  0.40427831],\n",
       "       [ 0.3928636 ,  0.60713637],\n",
       "       [ 0.75187325,  0.2481267 ],\n",
       "       [ 0.3928636 ,  0.60713637],\n",
       "       [ 0.70226103,  0.29773897],\n",
       "       [ 0.3443583 ,  0.65564173],\n",
       "       [ 0.0800258 ,  0.91997421],\n",
       "       [ 0.84080029,  0.15919973],\n",
       "       [ 0.0558317 ,  0.94416833],\n",
       "       [ 0.49753729,  0.50246263],\n",
       "       [ 0.99489236,  0.00510768],\n",
       "       [ 0.41481274,  0.58518726],\n",
       "       [ 0.6502564 ,  0.34974355],\n",
       "       [ 0.55693609,  0.44306391],\n",
       "       [ 0.94968981,  0.05031023],\n",
       "       [ 0.43813586,  0.56186414],\n",
       "       [ 0.8724761 ,  0.12752394],\n",
       "       [ 0.8724761 ,  0.12752394],\n",
       "       [ 0.09971073,  0.90028924],\n",
       "       [ 0.8724761 ,  0.12752394],\n",
       "       [ 0.05452533,  0.94547468],\n",
       "       [ 0.90996104,  0.09003895],\n",
       "       [ 0.93495363,  0.06504636],\n",
       "       [ 0.54313761,  0.45686236],\n",
       "       [ 0.36778191,  0.63221812],\n",
       "       [ 0.38310531,  0.61689466],\n",
       "       [ 0.36778191,  0.63221812],\n",
       "       [ 0.93495363,  0.06504636],\n",
       "       [ 0.93369782,  0.06630217],\n",
       "       [ 0.3928636 ,  0.60713637],\n",
       "       [ 0.8724761 ,  0.12752394],\n",
       "       [ 0.44274524,  0.55725479],\n",
       "       [ 0.43813586,  0.56186414],\n",
       "       [ 0.93495363,  0.06504636],\n",
       "       [ 0.54939646,  0.4506036 ],\n",
       "       [ 0.24338147,  0.75661856],\n",
       "       [ 0.3928636 ,  0.60713637],\n",
       "       [ 0.66781271,  0.33218729],\n",
       "       [ 0.17193381,  0.82806611],\n",
       "       [ 0.8724761 ,  0.12752394],\n",
       "       [ 0.84080029,  0.15919973],\n",
       "       [ 0.90616286,  0.09383715],\n",
       "       [ 0.52662611,  0.47337392],\n",
       "       [ 0.90616286,  0.09383715],\n",
       "       [ 0.6627878 ,  0.33721218],\n",
       "       [ 0.52201068,  0.47798929],\n",
       "       [ 0.95555991,  0.0444401 ],\n",
       "       [ 0.42038408,  0.57961595],\n",
       "       [ 0.43813586,  0.56186414],\n",
       "       [ 0.52201068,  0.47798929],\n",
       "       [ 0.3928636 ,  0.60713637],\n",
       "       [ 0.33224186,  0.66775811],\n",
       "       [ 0.84080029,  0.15919973],\n",
       "       [ 0.5250141 ,  0.47498587],\n",
       "       [ 0.45802984,  0.54197019],\n",
       "       [ 0.93495363,  0.06504636],\n",
       "       [ 0.52662611,  0.47337392],\n",
       "       [ 0.76982433,  0.23017561],\n",
       "       [ 0.3928636 ,  0.60713637],\n",
       "       [ 0.90972489,  0.09027503],\n",
       "       [ 0.3928636 ,  0.60713637],\n",
       "       [ 0.90616286,  0.09383715],\n",
       "       [ 0.93369782,  0.06630217],\n",
       "       [ 0.94968981,  0.05031023],\n",
       "       [ 0.8724761 ,  0.12752394],\n",
       "       [ 0.68424231,  0.31575772],\n",
       "       [ 0.81769085,  0.18230917],\n",
       "       [ 0.96896905,  0.031031  ],\n",
       "       [ 0.96686316,  0.03313689],\n",
       "       [ 0.47016761,  0.52983242],\n",
       "       [ 0.74988782,  0.25011218],\n",
       "       [ 0.91680992,  0.08319011],\n",
       "       [ 0.0800258 ,  0.91997421],\n",
       "       [ 0.91680992,  0.08319011],\n",
       "       [ 0.8724761 ,  0.12752394],\n",
       "       [ 0.93495363,  0.06504636],\n",
       "       [ 0.44274524,  0.55725479],\n",
       "       [ 0.85140854,  0.14859144],\n",
       "       [ 0.84080029,  0.15919973],\n",
       "       [ 0.93495363,  0.06504636],\n",
       "       [ 0.59967053,  0.4003295 ],\n",
       "       [ 0.4068509 ,  0.59314907],\n",
       "       [ 0.3270877 ,  0.67291236],\n",
       "       [ 0.74988782,  0.25011218],\n",
       "       [ 0.5418517 ,  0.45814827],\n",
       "       [ 0.43303159,  0.56696844],\n",
       "       [ 0.40172675,  0.59827322],\n",
       "       [ 0.42038408,  0.57961595],\n",
       "       [ 0.63871878,  0.36128122],\n",
       "       [ 0.51357764,  0.48642239],\n",
       "       [ 0.8724761 ,  0.12752394],\n",
       "       [ 0.3928636 ,  0.60713637],\n",
       "       [ 0.43303159,  0.56696844],\n",
       "       [ 0.84080029,  0.15919973],\n",
       "       [ 0.3443583 ,  0.65564173],\n",
       "       [ 0.54845637,  0.45154372],\n",
       "       [ 0.38310531,  0.61689466],\n",
       "       [ 0.8724761 ,  0.12752394],\n",
       "       [ 0.52662611,  0.47337392],\n",
       "       [ 0.41123164,  0.58876836],\n",
       "       [ 0.70192337,  0.29807669],\n",
       "       [ 0.5418517 ,  0.45814827],\n",
       "       [ 0.40172675,  0.59827322],\n",
       "       [ 0.84080029,  0.15919973],\n",
       "       [ 0.90616286,  0.09383715],\n",
       "       [ 0.47830409,  0.52169597],\n",
       "       [ 0.99789631,  0.00210371],\n",
       "       [ 0.93357497,  0.06642506],\n",
       "       [ 0.51357764,  0.48642239],\n",
       "       [ 0.23823181,  0.76176816],\n",
       "       [ 0.13345414,  0.86654592],\n",
       "       [ 0.28655818,  0.71344185],\n",
       "       [ 0.3967723 ,  0.60322767],\n",
       "       [ 0.8724761 ,  0.12752394],\n",
       "       [ 0.41123164,  0.58876836],\n",
       "       [ 0.48985213,  0.51014787],\n",
       "       [ 0.93369782,  0.06630217],\n",
       "       [ 0.23746485,  0.76253515],\n",
       "       [ 0.47016761,  0.52983242],\n",
       "       [ 0.90972489,  0.09027503],\n",
       "       [ 0.96686316,  0.03313689],\n",
       "       [ 0.94968981,  0.05031023],\n",
       "       [ 0.84080029,  0.15919973],\n",
       "       [ 0.3443583 ,  0.65564173],\n",
       "       [ 0.82065457,  0.17934547],\n",
       "       [ 0.3443583 ,  0.65564173],\n",
       "       [ 0.74988782,  0.25011218],\n",
       "       [ 0.58567274,  0.41432729],\n",
       "       [ 0.4982568 ,  0.5017432 ],\n",
       "       [ 0.6627878 ,  0.33721218],\n",
       "       [ 0.84080029,  0.15919973],\n",
       "       [ 0.93495363,  0.06504636],\n",
       "       [ 0.5418517 ,  0.45814827],\n",
       "       [ 0.44322899,  0.55677104],\n",
       "       [ 0.61454344,  0.38545653],\n",
       "       [ 0.43813586,  0.56186414],\n",
       "       [ 0.90616286,  0.09383715],\n",
       "       [ 0.3443583 ,  0.65564173],\n",
       "       [ 0.12909843,  0.87090164],\n",
       "       [ 0.4623549 ,  0.5376451 ],\n",
       "       [ 0.47016761,  0.52983242],\n",
       "       [ 0.41616949,  0.58383048],\n",
       "       [ 0.58567274,  0.41432729],\n",
       "       [ 0.3443583 ,  0.65564173],\n",
       "       [ 0.24338147,  0.75661856],\n",
       "       [ 0.84080029,  0.15919973],\n",
       "       [ 0.74988782,  0.25011218],\n",
       "       [ 0.47404739,  0.52595264],\n",
       "       [ 0.47830409,  0.52169597],\n",
       "       [ 0.8724761 ,  0.12752394],\n",
       "       [ 0.09137953,  0.90862048],\n",
       "       [ 0.8724761 ,  0.12752394],\n",
       "       [ 0.70192337,  0.29807669],\n",
       "       [ 0.3955451 ,  0.60445487],\n",
       "       [ 0.84080029,  0.15919973],\n",
       "       [ 0.3443583 ,  0.65564173],\n",
       "       [ 0.93369782,  0.06630217],\n",
       "       [ 0.43813586,  0.56186414],\n",
       "       [ 0.54313761,  0.45686236],\n",
       "       [ 0.93369782,  0.06630217],\n",
       "       [ 0.78589123,  0.21410874],\n",
       "       [ 0.62309116,  0.3769089 ],\n",
       "       [ 0.43813586,  0.56186414],\n",
       "       [ 0.93495363,  0.06504636],\n",
       "       [ 0.42038408,  0.57961595],\n",
       "       [ 0.93495363,  0.06504636],\n",
       "       [ 0.3270877 ,  0.67291236],\n",
       "       [ 0.6627878 ,  0.33721218],\n",
       "       [ 0.93369782,  0.06630217],\n",
       "       [ 0.52662611,  0.47337392],\n",
       "       [ 0.3955451 ,  0.60445487],\n",
       "       [ 0.90972489,  0.09027503],\n",
       "       [ 0.42150903,  0.57849097],\n",
       "       [ 0.90616286,  0.09383715],\n",
       "       [ 0.43813586,  0.56186414],\n",
       "       [ 0.4623549 ,  0.5376451 ],\n",
       "       [ 0.94968981,  0.05031023],\n",
       "       [ 0.0800258 ,  0.91997421],\n",
       "       [ 0.59691238,  0.40308765],\n",
       "       [ 0.6627878 ,  0.33721218],\n",
       "       [ 0.43050843,  0.56949157],\n",
       "       [ 0.3928636 ,  0.60713637],\n",
       "       [ 0.61454344,  0.38545653],\n",
       "       [ 0.55693609,  0.44306391],\n",
       "       [ 0.8724761 ,  0.12752394],\n",
       "       [ 0.92435485,  0.07564515],\n",
       "       [ 0.85670781,  0.14329219],\n",
       "       [ 0.24338147,  0.75661856],\n",
       "       [ 0.5418517 ,  0.45814827],\n",
       "       [ 0.92459959,  0.07540047],\n",
       "       [ 0.90616286,  0.09383715],\n",
       "       [ 0.94968981,  0.05031023],\n",
       "       [ 0.94968981,  0.05031023],\n",
       "       [ 0.02858823,  0.97141176],\n",
       "       [ 0.93495363,  0.06504636],\n",
       "       [ 0.93495363,  0.06504636],\n",
       "       [ 0.90616286,  0.09383715],\n",
       "       [ 0.12221871,  0.87778127],\n",
       "       [ 0.44274524,  0.55725479],\n",
       "       [ 0.8724761 ,  0.12752394],\n",
       "       [ 0.91680992,  0.08319011],\n",
       "       [ 0.93495363,  0.06504636],\n",
       "       [ 0.5418517 ,  0.45814827],\n",
       "       [ 0.8724761 ,  0.12752394],\n",
       "       [ 0.3928636 ,  0.60713637],\n",
       "       [ 0.09705789,  0.90294206],\n",
       "       [ 0.27654314,  0.72345686],\n",
       "       [ 0.93495363,  0.06504636],\n",
       "       [ 0.43813586,  0.56186414],\n",
       "       [ 0.47016761,  0.52983242],\n",
       "       [ 0.90778041,  0.09221961],\n",
       "       [ 0.10177827,  0.89822179],\n",
       "       [ 0.93495363,  0.06504636],\n",
       "       [ 0.36778191,  0.63221812],\n",
       "       [ 0.44322899,  0.55677104],\n",
       "       [ 0.41123164,  0.58876836],\n",
       "       [ 0.4623549 ,  0.5376451 ],\n",
       "       [ 0.3928636 ,  0.60713637],\n",
       "       [ 0.4068509 ,  0.59314907],\n",
       "       [ 0.5418517 ,  0.45814827],\n",
       "       [ 0.85140854,  0.14859144],\n",
       "       [ 0.3928636 ,  0.60713637],\n",
       "       [ 0.00302281,  0.99697721],\n",
       "       [ 0.93495363,  0.06504636],\n",
       "       [ 0.91680992,  0.08319011],\n",
       "       [ 0.40172675,  0.59827322],\n",
       "       [ 0.3928636 ,  0.60713637],\n",
       "       [ 0.76663733,  0.23336266],\n",
       "       [ 0.9703846 ,  0.02961536],\n",
       "       [ 0.43813586,  0.56186414],\n",
       "       [ 0.5418517 ,  0.45814827],\n",
       "       [ 0.56282556,  0.43717444],\n",
       "       [ 0.47016761,  0.52983242],\n",
       "       [ 0.54313761,  0.45686236],\n",
       "       [ 0.99603099,  0.00396903],\n",
       "       [ 0.84080029,  0.15919973],\n",
       "       [ 0.93369782,  0.06630217],\n",
       "       [ 0.5418517 ,  0.45814827],\n",
       "       [ 0.34981325,  0.65018678],\n",
       "       [ 0.32697901,  0.67302096],\n",
       "       [ 0.5418517 ,  0.45814827],\n",
       "       [ 0.77000743,  0.2299926 ],\n",
       "       [ 0.34981325,  0.65018678],\n",
       "       [ 0.5418517 ,  0.45814827],\n",
       "       [ 0.93369782,  0.06630217],\n",
       "       [ 0.93495363,  0.06504636],\n",
       "       [ 0.96686316,  0.03313689],\n",
       "       [ 0.3443583 ,  0.65564173],\n",
       "       [ 0.93369782,  0.06630217],\n",
       "       [ 0.63871878,  0.36128122],\n",
       "       [ 0.44274524,  0.55725479],\n",
       "       [ 0.41616949,  0.58383048],\n",
       "       [ 0.8724761 ,  0.12752394],\n",
       "       [ 0.8724761 ,  0.12752394],\n",
       "       [ 0.1236008 ,  0.87639928],\n",
       "       [ 0.59572172,  0.40427831],\n",
       "       [ 0.94968981,  0.05031023],\n",
       "       [ 0.49240845,  0.50759155],\n",
       "       [ 0.5418517 ,  0.45814827],\n",
       "       [ 0.54313761,  0.45686236],\n",
       "       [ 0.77815002,  0.22185002],\n",
       "       [ 0.5418517 ,  0.45814827],\n",
       "       [ 0.93369782,  0.06630217],\n",
       "       [ 0.8724761 ,  0.12752394],\n",
       "       [ 0.28655818,  0.71344185],\n",
       "       [ 0.43969411,  0.56030589],\n",
       "       [ 0.88313633,  0.11686368],\n",
       "       [ 0.3443583 ,  0.65564173],\n",
       "       [ 0.43813586,  0.56186414],\n",
       "       [ 0.8724761 ,  0.12752394],\n",
       "       [ 0.3928636 ,  0.60713637],\n",
       "       [ 0.3443583 ,  0.65564173],\n",
       "       [ 0.47404739,  0.52595264],\n",
       "       [ 0.49753731,  0.50246269],\n",
       "       [ 0.90616286,  0.09383715]], dtype=float32)"
      ]
     },
     "execution_count": 75,
     "metadata": {},
     "output_type": "execute_result"
    }
   ],
   "source": [
    "nn_predict_proba = model.predict_proba(nnX_test)\n",
    "nn_predict_proba"
   ]
  },
  {
   "cell_type": "code",
   "execution_count": 76,
   "metadata": {},
   "outputs": [
    {
     "name": "stdout",
     "output_type": "stream",
     "text": [
      "275/275 [==============================] - 0s 153us/step\n"
     ]
    },
    {
     "data": {
      "text/plain": [
       "[0.61984537406401197, 0.67636364156549622]"
      ]
     },
     "execution_count": 76,
     "metadata": {},
     "output_type": "execute_result"
    }
   ],
   "source": [
    "model.evaluate(nnX_test,nny_test,batch_size=50)"
   ]
  },
  {
   "cell_type": "code",
   "execution_count": 77,
   "metadata": {},
   "outputs": [],
   "source": [
    "nn_log_loss = log_loss(nn_predict_proba[:,1],nny_test[:,1])\n",
    "nn_fpr, nn_tpr, nn_thresh = roc_curve(nny_test[:,1],nn_predict_proba[:,1])\n",
    "nn_AUC = round(roc_auc_score(nny_test[:,1],nn_predict_proba[:,1]),2)"
   ]
  },
  {
   "cell_type": "code",
   "execution_count": 78,
   "metadata": {},
   "outputs": [
    {
     "data": {
      "image/png": "[encoded data removed]",
      "text/plain": [
       "<matplotlib.figure.Figure at 0xf9511d8898>"
      ]
     },
     "metadata": {},
     "output_type": "display_data"
    }
   ],
   "source": [
    "ax = plt.plot(knn_fp,knn_tp,label=\"KNN AUC: {}, Loss: {}\".format(knn_AUC,round(knn_log_loss,3)))\n",
    "ax = plt.plot(tree_fp,tree_tp,label=\"DecTree AUC: {}, Loss: {}\".format(tree_AUC,round(tree_log_loss,3)))\n",
    "ax = plt.plot(log_fp,log_tp,label=\"LogReg AUC: {}, Loss: {}\".format(log_AUC,round(logreg_log_loss,3)))\n",
    "ax = plt.plot(bern_fp,bern_tp,label=\"Bernoulli AUC: {}, Loss: {}\".format(bern_AUC,round(bern_log_loss,3)))\n",
    "ax = plt.plot(nn_fpr,nn_tpr,label=\"Neural Network AUC: {}, Loss: {}\".format(nn_AUC,round(nn_log_loss,3)))\n",
    "ax = plt.plot([0,1],[0,1],linestyle='--')\n",
    "\n",
    "plt.xlabel('False Positive Rate')\n",
    "plt.ylabel('True Positive Rate')\n",
    "plt.legend(loc=0,fontsize=12)\n",
    "plt.title('Neural Network vs Other Classifiers Operating Curve',fontsize=16)\n",
    "plt.margins(0.01)\n",
    "plt.annotate(\"Random Prediction\",xy=(.51,.49),xytext=(.73,.48),arrowprops={'facecolor':'red'})\n",
    "plt.show()"
   ]
  },
  {
   "cell_type": "markdown",
   "metadata": {},
   "source": [
    "### Looking at the Epoch history of Neural Network model"
   ]
  },
  {
   "cell_type": "code",
   "execution_count": 79,
   "metadata": {
    "collapsed": true
   },
   "outputs": [],
   "source": [
    "nn_history = pd.DataFrame(model_training.history)"
   ]
  },
  {
   "cell_type": "code",
   "execution_count": 80,
   "metadata": {},
   "outputs": [
    {
     "data": {
      "image/png": "[encoded data removed]",
      "text/plain": [
       "<matplotlib.figure.Figure at 0xf953e1d7b8>"
      ]
     },
     "metadata": {},
     "output_type": "display_data"
    }
   ],
   "source": [
    "nn_history.plot()\n",
    "plt.xlabel('# of Epochs')\n",
    "plt.ylabel('Score')\n",
    "plt.title('Training History of Neural Network model',fontweight='bold')\n",
    "plt.show()"
   ]
  },
  {
   "cell_type": "code",
   "execution_count": 81,
   "metadata": {
    "collapsed": true
   },
   "outputs": [],
   "source": [
    "from sklearn.model_selection import GridSearchCV"
   ]
  },
  {
   "cell_type": "code",
   "execution_count": 82,
   "metadata": {},
   "outputs": [
    {
     "data": {
      "text/plain": [
       "{'C': [0.0001, 0.001, 0.01, 0.1, 1, 10, 100]}"
      ]
     },
     "execution_count": 82,
     "metadata": {},
     "output_type": "execute_result"
    }
   ],
   "source": [
    "param_grid = {'C':[.0001,.001,.01,.1,1,10,100]}\n",
    "param_grid"
   ]
  },
  {
   "cell_type": "code",
   "execution_count": 83,
   "metadata": {},
   "outputs": [],
   "source": [
    "logreg_cv = GridSearchCV(LogisticRegression(),param_grid,cv=5)"
   ]
  },
  {
   "cell_type": "code",
   "execution_count": 84,
   "metadata": {},
   "outputs": [
    {
     "data": {
      "text/plain": [
       "GridSearchCV(cv=5, error_score='raise',\n",
       "       estimator=LogisticRegression(C=1.0, class_weight=None, dual=False, fit_intercept=True,\n",
       "          intercept_scaling=1, max_iter=100, multi_class='ovr', n_jobs=1,\n",
       "          penalty='l2', random_state=None, solver='liblinear', tol=0.0001,\n",
       "          verbose=0, warm_start=False),\n",
       "       fit_params=None, iid=True, n_jobs=1,\n",
       "       param_grid={'C': [0.0001, 0.001, 0.01, 0.1, 1, 10, 100]},\n",
       "       pre_dispatch='2*n_jobs', refit=True, return_train_score='warn',\n",
       "       scoring=None, verbose=0)"
      ]
     },
     "execution_count": 84,
     "metadata": {},
     "output_type": "execute_result"
    }
   ],
   "source": [
    "logreg_cv.fit(X_train,y_train)"
   ]
  },
  {
   "cell_type": "code",
   "execution_count": 85,
   "metadata": {},
   "outputs": [
    {
     "data": {
      "text/plain": [
       "{'C': 1}"
      ]
     },
     "execution_count": 85,
     "metadata": {},
     "output_type": "execute_result"
    }
   ],
   "source": [
    "logreg_cv.best_params_"
   ]
  },
  {
   "cell_type": "markdown",
   "metadata": {},
   "source": [
    "### Saving Logistic Regression model and Predictions DataFrame"
   ]
  },
  {
   "cell_type": "code",
   "execution_count": 86,
   "metadata": {
    "collapsed": true
   },
   "outputs": [],
   "source": [
    "from sklearn.externals import joblib"
   ]
  },
  {
   "cell_type": "code",
   "execution_count": 87,
   "metadata": {},
   "outputs": [
    {
     "data": {
      "text/plain": [
       "['autism_screening_logistic_regression_model.pkl']"
      ]
     },
     "execution_count": 87,
     "metadata": {},
     "output_type": "execute_result"
    }
   ],
   "source": [
    "joblib.dump(logreg,'autism_screening_logistic_regression_model.pkl')"
   ]
  },
  {
   "cell_type": "code",
   "execution_count": 88,
   "metadata": {
    "collapsed": true
   },
   "outputs": [],
   "source": [
    "model_loaded = joblib.load('autism_screening_logistic_regression_model.pkl')"
   ]
  },
  {
   "cell_type": "code",
   "execution_count": 89,
   "metadata": {},
   "outputs": [
    {
     "data": {
      "text/plain": [
       "True"
      ]
     },
     "execution_count": 89,
     "metadata": {},
     "output_type": "execute_result"
    }
   ],
   "source": [
    "(y_logreg_pred_proba).all() == (model_loaded.predict_proba(X_test)).all()"
   ]
  },
  {
   "cell_type": "code",
   "execution_count": 90,
   "metadata": {},
   "outputs": [],
   "source": [
    "predictions_df = pd.DataFrame(data=X_test,columns=feature_names)"
   ]
  },
  {
   "cell_type": "code",
   "execution_count": 91,
   "metadata": {},
   "outputs": [],
   "source": [
    "target_df = pd.DataFrame({'Predicted Probability':y_logreg_pred_proba[:,1],\n",
    "                          'Predicted Outcome':y_logreg_pred})"
   ]
  },
  {
   "cell_type": "code",
   "execution_count": 92,
   "metadata": {},
   "outputs": [],
   "source": [
    "target_df['Risk Level'] = pd.cut(target_df['Predicted Probability'],[0,.25,.5,.75,1],right=False,labels=['Very Unlikely','Unlikely','Likely','Very Likely'])"
   ]
  },
  {
   "cell_type": "code",
   "execution_count": 93,
   "metadata": {
    "collapsed": true
   },
   "outputs": [],
   "source": [
    "predictions_df = pd.concat([predictions_df,target_df],axis=1)"
   ]
  },
  {
   "cell_type": "code",
   "execution_count": 94,
   "metadata": {},
   "outputs": [
    {
     "data": {
      "text/html": [
       "<div>\n",
       "<style>\n",
       "    .dataframe thead tr:only-child th {\n",
       "        text-align: right;\n",
       "    }\n",
       "\n",
       "    .dataframe thead th {\n",
       "        text-align: left;\n",
       "    }\n",
       "\n",
       "    .dataframe tbody tr th {\n",
       "        vertical-align: top;\n",
       "    }\n",
       "</style>\n",
       "<table border=\"1\" class=\"dataframe\">\n",
       "  <thead>\n",
       "    <tr style=\"text-align: right;\">\n",
       "      <th></th>\n",
       "      <th>jaundice</th>\n",
       "      <th>autism</th>\n",
       "      <th>used_app_before</th>\n",
       "      <th>gen_m</th>\n",
       "      <th>eth_Black</th>\n",
       "      <th>eth_Hispanic</th>\n",
       "      <th>eth_Latino</th>\n",
       "      <th>eth_Middle_Eastern</th>\n",
       "      <th>eth_Others</th>\n",
       "      <th>eth_Pasifika</th>\n",
       "      <th>...</th>\n",
       "      <th>eth_Unknown</th>\n",
       "      <th>eth_White-European</th>\n",
       "      <th>age_12-17 years</th>\n",
       "      <th>age_18 and older</th>\n",
       "      <th>rel_Health care professional</th>\n",
       "      <th>rel_Self</th>\n",
       "      <th>rel_Unknown</th>\n",
       "      <th>Predicted Outcome</th>\n",
       "      <th>Predicted Probability</th>\n",
       "      <th>Risk Level</th>\n",
       "    </tr>\n",
       "  </thead>\n",
       "  <tbody>\n",
       "    <tr>\n",
       "      <th>0</th>\n",
       "      <td>0</td>\n",
       "      <td>0</td>\n",
       "      <td>0</td>\n",
       "      <td>0</td>\n",
       "      <td>1</td>\n",
       "      <td>0</td>\n",
       "      <td>0</td>\n",
       "      <td>0</td>\n",
       "      <td>0</td>\n",
       "      <td>0</td>\n",
       "      <td>...</td>\n",
       "      <td>0</td>\n",
       "      <td>0</td>\n",
       "      <td>0</td>\n",
       "      <td>1</td>\n",
       "      <td>0</td>\n",
       "      <td>1</td>\n",
       "      <td>0</td>\n",
       "      <td>0</td>\n",
       "      <td>0.339054</td>\n",
       "      <td>Unlikely</td>\n",
       "    </tr>\n",
       "    <tr>\n",
       "      <th>1</th>\n",
       "      <td>0</td>\n",
       "      <td>0</td>\n",
       "      <td>0</td>\n",
       "      <td>0</td>\n",
       "      <td>0</td>\n",
       "      <td>0</td>\n",
       "      <td>0</td>\n",
       "      <td>0</td>\n",
       "      <td>0</td>\n",
       "      <td>0</td>\n",
       "      <td>...</td>\n",
       "      <td>0</td>\n",
       "      <td>1</td>\n",
       "      <td>0</td>\n",
       "      <td>1</td>\n",
       "      <td>0</td>\n",
       "      <td>1</td>\n",
       "      <td>0</td>\n",
       "      <td>0</td>\n",
       "      <td>0.420104</td>\n",
       "      <td>Unlikely</td>\n",
       "    </tr>\n",
       "    <tr>\n",
       "      <th>2</th>\n",
       "      <td>1</td>\n",
       "      <td>1</td>\n",
       "      <td>0</td>\n",
       "      <td>1</td>\n",
       "      <td>0</td>\n",
       "      <td>0</td>\n",
       "      <td>0</td>\n",
       "      <td>1</td>\n",
       "      <td>0</td>\n",
       "      <td>0</td>\n",
       "      <td>...</td>\n",
       "      <td>0</td>\n",
       "      <td>0</td>\n",
       "      <td>0</td>\n",
       "      <td>1</td>\n",
       "      <td>0</td>\n",
       "      <td>0</td>\n",
       "      <td>0</td>\n",
       "      <td>0</td>\n",
       "      <td>0.212794</td>\n",
       "      <td>Very Unlikely</td>\n",
       "    </tr>\n",
       "    <tr>\n",
       "      <th>3</th>\n",
       "      <td>0</td>\n",
       "      <td>0</td>\n",
       "      <td>0</td>\n",
       "      <td>0</td>\n",
       "      <td>0</td>\n",
       "      <td>0</td>\n",
       "      <td>0</td>\n",
       "      <td>0</td>\n",
       "      <td>0</td>\n",
       "      <td>0</td>\n",
       "      <td>...</td>\n",
       "      <td>0</td>\n",
       "      <td>1</td>\n",
       "      <td>0</td>\n",
       "      <td>1</td>\n",
       "      <td>0</td>\n",
       "      <td>1</td>\n",
       "      <td>0</td>\n",
       "      <td>0</td>\n",
       "      <td>0.420104</td>\n",
       "      <td>Unlikely</td>\n",
       "    </tr>\n",
       "    <tr>\n",
       "      <th>4</th>\n",
       "      <td>0</td>\n",
       "      <td>0</td>\n",
       "      <td>0</td>\n",
       "      <td>0</td>\n",
       "      <td>0</td>\n",
       "      <td>0</td>\n",
       "      <td>0</td>\n",
       "      <td>0</td>\n",
       "      <td>0</td>\n",
       "      <td>0</td>\n",
       "      <td>...</td>\n",
       "      <td>1</td>\n",
       "      <td>0</td>\n",
       "      <td>0</td>\n",
       "      <td>0</td>\n",
       "      <td>0</td>\n",
       "      <td>0</td>\n",
       "      <td>1</td>\n",
       "      <td>0</td>\n",
       "      <td>0.299095</td>\n",
       "      <td>Unlikely</td>\n",
       "    </tr>\n",
       "  </tbody>\n",
       "</table>\n",
       "<p>5 rows × 22 columns</p>\n",
       "</div>"
      ],
      "text/plain": [
       "   jaundice  autism  used_app_before  gen_m  eth_Black  eth_Hispanic  \\\n",
       "0         0       0                0      0          1             0   \n",
       "1         0       0                0      0          0             0   \n",
       "2         1       1                0      1          0             0   \n",
       "3         0       0                0      0          0             0   \n",
       "4         0       0                0      0          0             0   \n",
       "\n",
       "   eth_Latino  eth_Middle_Eastern  eth_Others  eth_Pasifika      ...        \\\n",
       "0           0                   0           0             0      ...         \n",
       "1           0                   0           0             0      ...         \n",
       "2           0                   1           0             0      ...         \n",
       "3           0                   0           0             0      ...         \n",
       "4           0                   0           0             0      ...         \n",
       "\n",
       "   eth_Unknown  eth_White-European  age_12-17 years  age_18 and older  \\\n",
       "0            0                   0                0                 1   \n",
       "1            0                   1                0                 1   \n",
       "2            0                   0                0                 1   \n",
       "3            0                   1                0                 1   \n",
       "4            1                   0                0                 0   \n",
       "\n",
       "   rel_Health care professional  rel_Self  rel_Unknown  Predicted Outcome  \\\n",
       "0                             0         1            0                  0   \n",
       "1                             0         1            0                  0   \n",
       "2                             0         0            0                  0   \n",
       "3                             0         1            0                  0   \n",
       "4                             0         0            1                  0   \n",
       "\n",
       "   Predicted Probability     Risk Level  \n",
       "0               0.339054       Unlikely  \n",
       "1               0.420104       Unlikely  \n",
       "2               0.212794  Very Unlikely  \n",
       "3               0.420104       Unlikely  \n",
       "4               0.299095       Unlikely  \n",
       "\n",
       "[5 rows x 22 columns]"
      ]
     },
     "execution_count": 94,
     "metadata": {},
     "output_type": "execute_result"
    }
   ],
   "source": [
    "predictions_df.head()"
   ]
  },
  {
   "cell_type": "code",
   "execution_count": 95,
   "metadata": {},
   "outputs": [],
   "source": [
    "predictions_df.to_csv('autism_screening_predictions.csv')"
   ]
  },
  {
   "cell_type": "code",
   "execution_count": 96,
   "metadata": {},
   "outputs": [
    {
     "data": {
      "image/png": "[encoded data removed]",
      "text/plain": [
       "<matplotlib.figure.Figure at 0xf950ef7d68>"
      ]
     },
     "metadata": {},
     "output_type": "display_data"
    }
   ],
   "source": [
    "predictions_df['Predicted Probability'].plot(kind='hist',bins=20,title='Distribution of Predicted Probabilities for ASD')\n",
    "plt.margins(0.02)\n",
    "plt.show()"
   ]
  },
  {
   "cell_type": "code",
   "execution_count": null,
   "metadata": {
    "collapsed": true
   },
   "outputs": [],
   "source": []
  }
 ],
 "metadata": {
  "kernelspec": {
   "display_name": "Python 3",
   "language": "python",
   "name": "python3"
  },
  "language_info": {
   "codemirror_mode": {
    "name": "ipython",
    "version": 3
   },
   "file_extension": ".py",
   "mimetype": "text/x-python",
   "name": "python",
   "nbconvert_exporter": "python",
   "pygments_lexer": "ipython3",
   "version": "3.6.3"
  }
 },
 "nbformat": 4,
 "nbformat_minor": 2
}
